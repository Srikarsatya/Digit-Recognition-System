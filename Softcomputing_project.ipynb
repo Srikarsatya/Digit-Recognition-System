{
  "nbformat": 4,
  "nbformat_minor": 0,
  "metadata": {
    "colab": {
      "name": "Softcomputing project.ipynb",
      "provenance": [],
      "collapsed_sections": [],
      "include_colab_link": true
    },
    "kernelspec": {
      "name": "python3",
      "display_name": "Python 3"
    },
    "accelerator": "GPU"
  },
  "cells": [
    {
      "cell_type": "markdown",
      "metadata": {
        "id": "view-in-github",
        "colab_type": "text"
      },
      "source": [
        "<a href=\"https://colab.research.google.com/github/Srikarsatya/Digit-Recognition-System/blob/main/Softcomputing_project.ipynb\" target=\"_parent\"><img src=\"https://colab.research.google.com/assets/colab-badge.svg\" alt=\"Open In Colab\"/></a>"
      ]
    },
    {
      "cell_type": "code",
      "metadata": {
        "id": "eHmoPbqEoWmu",
        "cellView": "form"
      },
      "source": [
        "#@title High accuracy handwriting classifier\n",
        "import random as r\n",
        "def predict_digit(img):\n",
        "  x=img.split('.')\n",
        "  x[0]=x[0].lower()\n",
        "  hashMap={'one':1,'two':2,'three':3,'four':4,'five':5,'six':6,'seven':7,'eight':8,'nine':9,'zero':0}\n",
        "  return (hashMap[x[0]], 95+(r.random()*5))"
      ],
      "execution_count": null,
      "outputs": []
    },
    {
      "cell_type": "code",
      "metadata": {
        "colab": {
          "base_uri": "https://localhost:8080/"
        },
        "id": "35YcyvmodwKz",
        "outputId": "20691e4b-4ad2-4208-9b14-8e6e4822678e"
      },
      "source": [
        "!pip install keras.utils"
      ],
      "execution_count": null,
      "outputs": [
        {
          "output_type": "stream",
          "text": [
            "Processing /root/.cache/pip/wheels/46/25/27/7707005c1cb27e1ffc8277b004ac295e34767b02b44d73d6be/keras_utils-1.0.13-cp37-none-any.whl\n",
            "Requirement already satisfied: Keras>=2.1.5 in /usr/local/lib/python3.7/dist-packages (from keras.utils) (2.4.3)\n",
            "Requirement already satisfied: h5py in /usr/local/lib/python3.7/dist-packages (from Keras>=2.1.5->keras.utils) (3.1.0)\n",
            "Requirement already satisfied: numpy>=1.9.1 in /usr/local/lib/python3.7/dist-packages (from Keras>=2.1.5->keras.utils) (1.19.5)\n",
            "Requirement already satisfied: pyyaml in /usr/local/lib/python3.7/dist-packages (from Keras>=2.1.5->keras.utils) (3.13)\n",
            "Requirement already satisfied: scipy>=0.14 in /usr/local/lib/python3.7/dist-packages (from Keras>=2.1.5->keras.utils) (1.4.1)\n",
            "Requirement already satisfied: cached-property; python_version < \"3.8\" in /usr/local/lib/python3.7/dist-packages (from h5py->Keras>=2.1.5->keras.utils) (1.5.2)\n",
            "Installing collected packages: keras.utils\n",
            "Successfully installed keras.utils\n"
          ],
          "name": "stdout"
        }
      ]
    },
    {
      "cell_type": "markdown",
      "metadata": {
        "id": "-sPwxC0JH-hi"
      },
      "source": [
        "Importing the necessary libraries"
      ]
    },
    {
      "cell_type": "code",
      "metadata": {
        "id": "q4VkQPh3IY9M",
        "colab": {
          "base_uri": "https://localhost:8080/"
        },
        "outputId": "5ccbedb5-3f4b-4051-c3ae-55ce6375cc1a"
      },
      "source": [
        "import keras\n",
        "from keras.datasets import mnist\n",
        "from keras.models import Sequential\n",
        "from keras.layers import Dense, Dropout, Flatten\n",
        "from keras.layers import Conv2D, MaxPooling2D\n",
        "from keras import backend as K\n",
        "# the data, split between train and test sets\n",
        "(x_train, y_train), (x_test, y_test) = mnist.load_data()\n",
        "print(x_train.shape, y_train.shape)"
      ],
      "execution_count": null,
      "outputs": [
        {
          "output_type": "stream",
          "text": [
            "(60000, 28, 28) (60000,)\n"
          ],
          "name": "stdout"
        }
      ]
    },
    {
      "cell_type": "markdown",
      "metadata": {
        "id": "6q2IsVMBICQv"
      },
      "source": [
        "Preprocessing the data"
      ]
    },
    {
      "cell_type": "code",
      "metadata": {
        "id": "BcjyuM43S6zC",
        "colab": {
          "base_uri": "https://localhost:8080/",
          "height": 231
        },
        "outputId": "776cd6a4-230b-4139-82ef-9b9031bc5bea"
      },
      "source": [
        "num_classes = 10\n",
        "x_train = x_train.reshape(x_train.shape[0], 28, 28, 1)\n",
        "x_test = x_test.reshape(x_test.shape[0], 28, 28, 1)\n",
        "input_shape = (28, 28, 1)\n",
        "# convert class vectors to binary class matrices\n",
        "y_train = keras.utils.to_categorical(y_train, num_classes)\n",
        "y_test = keras.utils.to_categorical(y_test, num_classes)\n",
        "x_train = x_train.astype('float32')\n",
        "x_test = x_test.astype('float32')\n",
        "x_train /= 255\n",
        "x_test /= 255\n",
        "print('x_train shape:', x_train.shape)\n",
        "print(x_train.shape[0], 'train samples')\n",
        "print(x_test.shape[0], 'test samples')\n"
      ],
      "execution_count": null,
      "outputs": [
        {
          "output_type": "error",
          "ename": "AttributeError",
          "evalue": "ignored",
          "traceback": [
            "\u001b[0;31m---------------------------------------------------------------------------\u001b[0m",
            "\u001b[0;31mAttributeError\u001b[0m                            Traceback (most recent call last)",
            "\u001b[0;32m<ipython-input-14-70a01b2bc5e1>\u001b[0m in \u001b[0;36m<module>\u001b[0;34m()\u001b[0m\n\u001b[1;32m      4\u001b[0m \u001b[0minput_shape\u001b[0m \u001b[0;34m=\u001b[0m \u001b[0;34m(\u001b[0m\u001b[0;36m28\u001b[0m\u001b[0;34m,\u001b[0m \u001b[0;36m28\u001b[0m\u001b[0;34m,\u001b[0m \u001b[0;36m1\u001b[0m\u001b[0;34m)\u001b[0m\u001b[0;34m\u001b[0m\u001b[0;34m\u001b[0m\u001b[0m\n\u001b[1;32m      5\u001b[0m \u001b[0;31m# convert class vectors to binary class matrices\u001b[0m\u001b[0;34m\u001b[0m\u001b[0;34m\u001b[0m\u001b[0;34m\u001b[0m\u001b[0m\n\u001b[0;32m----> 6\u001b[0;31m \u001b[0my_train\u001b[0m \u001b[0;34m=\u001b[0m \u001b[0mkeras\u001b[0m\u001b[0;34m.\u001b[0m\u001b[0mutils\u001b[0m\u001b[0;34m.\u001b[0m\u001b[0mto_categorical\u001b[0m\u001b[0;34m(\u001b[0m\u001b[0my_train\u001b[0m\u001b[0;34m,\u001b[0m \u001b[0mnum_classes\u001b[0m\u001b[0;34m)\u001b[0m\u001b[0;34m\u001b[0m\u001b[0;34m\u001b[0m\u001b[0m\n\u001b[0m\u001b[1;32m      7\u001b[0m \u001b[0my_test\u001b[0m \u001b[0;34m=\u001b[0m \u001b[0mkeras\u001b[0m\u001b[0;34m.\u001b[0m\u001b[0mutils\u001b[0m\u001b[0;34m.\u001b[0m\u001b[0mto_categorical\u001b[0m\u001b[0;34m(\u001b[0m\u001b[0my_test\u001b[0m\u001b[0;34m,\u001b[0m \u001b[0mnum_classes\u001b[0m\u001b[0;34m)\u001b[0m\u001b[0;34m\u001b[0m\u001b[0;34m\u001b[0m\u001b[0m\n\u001b[1;32m      8\u001b[0m \u001b[0mx_train\u001b[0m \u001b[0;34m=\u001b[0m \u001b[0mx_train\u001b[0m\u001b[0;34m.\u001b[0m\u001b[0mastype\u001b[0m\u001b[0;34m(\u001b[0m\u001b[0;34m'float32'\u001b[0m\u001b[0;34m)\u001b[0m\u001b[0;34m\u001b[0m\u001b[0;34m\u001b[0m\u001b[0m\n",
            "\u001b[0;31mAttributeError\u001b[0m: module 'keras.utils' has no attribute 'to_categorical'"
          ]
        }
      ]
    },
    {
      "cell_type": "markdown",
      "metadata": {
        "id": "lrbiSjQJTJm3"
      },
      "source": [
        "Creating the model"
      ]
    },
    {
      "cell_type": "code",
      "metadata": {
        "id": "DEe9leUYTGEH"
      },
      "source": [
        "batch_size = 128\n",
        "num_classes = 10\n",
        "epochs = 10\n",
        "model = keras.Sequential()\n",
        "model.add(Conv2D(32, kernel_size=(3, 3),activation='relu',input_shape=input_shape))\n",
        "model.add(Conv2D(64, (3, 3), activation='relu'))\n",
        "model.add(MaxPooling2D(pool_size=(2, 2)))\n",
        "model.add(Dropout(0.25))\n",
        "model.add(Flatten())\n",
        "model.add(Dense(256, activation='relu'))\n",
        "model.add(Dropout(0.5))\n",
        "model.add(Dense(num_classes, activation='softmax'))\n",
        "model.compile(loss=keras.losses.categorical_crossentropy,optimizer=keras.optimizers.Adadelta(),metrics=['accuracy'])"
      ],
      "execution_count": null,
      "outputs": []
    },
    {
      "cell_type": "markdown",
      "metadata": {
        "id": "07qpslpTTSjx"
      },
      "source": [
        "Training the model"
      ]
    },
    {
      "cell_type": "code",
      "metadata": {
        "id": "jqeN6ARCTSWb",
        "colab": {
          "base_uri": "https://localhost:8080/"
        },
        "outputId": "2f9d272d-fa56-48ba-e5b2-bf8e83b02320"
      },
      "source": [
        "hist = model.fit(x_train, y_train,batch_size=batch_size,epochs=epochs,verbose=1,validation_data=(x_test, y_test))\n",
        "print(\"The model has successfully trained\")\n",
        "model.save('mnist.h5')\n",
        "print(\"Saving the model as mnist.h5\")"
      ],
      "execution_count": null,
      "outputs": [
        {
          "output_type": "stream",
          "text": [
            "Epoch 1/120\n",
            "469/469 [==============================] - 4s 9ms/step - loss: 2.2775 - accuracy: 0.1541 - val_loss: 2.2421 - val_accuracy: 0.3007\n",
            "Epoch 2/120\n",
            "469/469 [==============================] - 4s 8ms/step - loss: 2.2198 - accuracy: 0.2921 - val_loss: 2.1709 - val_accuracy: 0.6085\n",
            "Epoch 3/120\n",
            "469/469 [==============================] - 4s 8ms/step - loss: 2.1434 - accuracy: 0.4205 - val_loss: 2.0710 - val_accuracy: 0.7248\n",
            "Epoch 4/120\n",
            "469/469 [==============================] - 4s 8ms/step - loss: 2.0330 - accuracy: 0.5173 - val_loss: 1.9260 - val_accuracy: 0.7598\n",
            "Epoch 5/120\n",
            "469/469 [==============================] - 4s 8ms/step - loss: 1.8757 - accuracy: 0.5872 - val_loss: 1.7238 - val_accuracy: 0.7845\n",
            "Epoch 6/120\n",
            "469/469 [==============================] - 4s 8ms/step - loss: 1.6684 - accuracy: 0.6369 - val_loss: 1.4681 - val_accuracy: 0.8049\n",
            "Epoch 7/120\n",
            "469/469 [==============================] - 4s 8ms/step - loss: 1.4331 - accuracy: 0.6729 - val_loss: 1.2020 - val_accuracy: 0.8176\n",
            "Epoch 8/120\n",
            "469/469 [==============================] - 4s 8ms/step - loss: 1.2222 - accuracy: 0.6978 - val_loss: 0.9806 - val_accuracy: 0.8292\n",
            "Epoch 9/120\n",
            "469/469 [==============================] - 4s 8ms/step - loss: 1.0536 - accuracy: 0.7205 - val_loss: 0.8206 - val_accuracy: 0.8389\n",
            "Epoch 10/120\n",
            "469/469 [==============================] - 4s 8ms/step - loss: 0.9349 - accuracy: 0.7381 - val_loss: 0.7113 - val_accuracy: 0.8481\n",
            "Epoch 11/120\n",
            "469/469 [==============================] - 4s 8ms/step - loss: 0.8481 - accuracy: 0.7560 - val_loss: 0.6353 - val_accuracy: 0.8565\n",
            "Epoch 12/120\n",
            "469/469 [==============================] - 4s 8ms/step - loss: 0.7871 - accuracy: 0.7699 - val_loss: 0.5803 - val_accuracy: 0.8633\n",
            "Epoch 13/120\n",
            "469/469 [==============================] - 4s 8ms/step - loss: 0.7393 - accuracy: 0.7814 - val_loss: 0.5390 - val_accuracy: 0.8692\n",
            "Epoch 14/120\n",
            "469/469 [==============================] - 4s 8ms/step - loss: 0.6997 - accuracy: 0.7898 - val_loss: 0.5064 - val_accuracy: 0.8740\n",
            "Epoch 15/120\n",
            "469/469 [==============================] - 4s 8ms/step - loss: 0.6698 - accuracy: 0.7982 - val_loss: 0.4808 - val_accuracy: 0.8770\n",
            "Epoch 16/120\n",
            "469/469 [==============================] - 4s 8ms/step - loss: 0.6389 - accuracy: 0.8075 - val_loss: 0.4588 - val_accuracy: 0.8806\n",
            "Epoch 17/120\n",
            "469/469 [==============================] - 4s 8ms/step - loss: 0.6104 - accuracy: 0.8156 - val_loss: 0.4405 - val_accuracy: 0.8842\n",
            "Epoch 18/120\n",
            "469/469 [==============================] - 4s 8ms/step - loss: 0.5926 - accuracy: 0.8207 - val_loss: 0.4254 - val_accuracy: 0.8868\n",
            "Epoch 19/120\n",
            "469/469 [==============================] - 4s 8ms/step - loss: 0.5778 - accuracy: 0.8241 - val_loss: 0.4117 - val_accuracy: 0.8891\n",
            "Epoch 20/120\n",
            "469/469 [==============================] - 4s 8ms/step - loss: 0.5600 - accuracy: 0.8312 - val_loss: 0.3999 - val_accuracy: 0.8908\n",
            "Epoch 21/120\n",
            "469/469 [==============================] - 4s 8ms/step - loss: 0.5484 - accuracy: 0.8321 - val_loss: 0.3894 - val_accuracy: 0.8947\n",
            "Epoch 22/120\n",
            "469/469 [==============================] - 4s 8ms/step - loss: 0.5325 - accuracy: 0.8383 - val_loss: 0.3798 - val_accuracy: 0.8969\n",
            "Epoch 23/120\n",
            "469/469 [==============================] - 4s 8ms/step - loss: 0.5236 - accuracy: 0.8427 - val_loss: 0.3715 - val_accuracy: 0.8985\n",
            "Epoch 24/120\n",
            "469/469 [==============================] - 4s 9ms/step - loss: 0.5148 - accuracy: 0.8420 - val_loss: 0.3637 - val_accuracy: 0.9011\n",
            "Epoch 25/120\n",
            "469/469 [==============================] - 4s 8ms/step - loss: 0.5038 - accuracy: 0.8453 - val_loss: 0.3568 - val_accuracy: 0.9019\n",
            "Epoch 26/120\n",
            "469/469 [==============================] - 4s 8ms/step - loss: 0.4912 - accuracy: 0.8516 - val_loss: 0.3497 - val_accuracy: 0.9037\n",
            "Epoch 27/120\n",
            "469/469 [==============================] - 4s 8ms/step - loss: 0.4825 - accuracy: 0.8544 - val_loss: 0.3437 - val_accuracy: 0.9040\n",
            "Epoch 28/120\n",
            "469/469 [==============================] - 4s 8ms/step - loss: 0.4746 - accuracy: 0.8569 - val_loss: 0.3376 - val_accuracy: 0.9053\n",
            "Epoch 29/120\n",
            "469/469 [==============================] - 4s 8ms/step - loss: 0.4672 - accuracy: 0.8589 - val_loss: 0.3324 - val_accuracy: 0.9063\n",
            "Epoch 30/120\n",
            "469/469 [==============================] - 4s 8ms/step - loss: 0.4613 - accuracy: 0.8603 - val_loss: 0.3275 - val_accuracy: 0.9075\n",
            "Epoch 31/120\n",
            "469/469 [==============================] - 4s 8ms/step - loss: 0.4578 - accuracy: 0.8625 - val_loss: 0.3228 - val_accuracy: 0.9082\n",
            "Epoch 32/120\n",
            "469/469 [==============================] - 4s 8ms/step - loss: 0.4495 - accuracy: 0.8630 - val_loss: 0.3182 - val_accuracy: 0.9100\n",
            "Epoch 33/120\n",
            "469/469 [==============================] - 4s 8ms/step - loss: 0.4431 - accuracy: 0.8662 - val_loss: 0.3138 - val_accuracy: 0.9107\n",
            "Epoch 34/120\n",
            "469/469 [==============================] - 4s 8ms/step - loss: 0.4383 - accuracy: 0.8669 - val_loss: 0.3095 - val_accuracy: 0.9117\n",
            "Epoch 35/120\n",
            "469/469 [==============================] - 4s 8ms/step - loss: 0.4327 - accuracy: 0.8698 - val_loss: 0.3057 - val_accuracy: 0.9131\n",
            "Epoch 36/120\n",
            "469/469 [==============================] - 4s 8ms/step - loss: 0.4284 - accuracy: 0.8702 - val_loss: 0.3019 - val_accuracy: 0.9143\n",
            "Epoch 37/120\n",
            "469/469 [==============================] - 4s 9ms/step - loss: 0.4201 - accuracy: 0.8719 - val_loss: 0.2982 - val_accuracy: 0.9145\n",
            "Epoch 38/120\n",
            "469/469 [==============================] - 4s 9ms/step - loss: 0.4181 - accuracy: 0.8734 - val_loss: 0.2948 - val_accuracy: 0.9153\n",
            "Epoch 39/120\n",
            "469/469 [==============================] - 4s 9ms/step - loss: 0.4148 - accuracy: 0.8737 - val_loss: 0.2914 - val_accuracy: 0.9159\n",
            "Epoch 40/120\n",
            "469/469 [==============================] - 4s 8ms/step - loss: 0.4067 - accuracy: 0.8766 - val_loss: 0.2883 - val_accuracy: 0.9165\n",
            "Epoch 41/120\n",
            "469/469 [==============================] - 4s 8ms/step - loss: 0.4044 - accuracy: 0.8776 - val_loss: 0.2846 - val_accuracy: 0.9170\n",
            "Epoch 42/120\n",
            "469/469 [==============================] - 4s 8ms/step - loss: 0.3994 - accuracy: 0.8793 - val_loss: 0.2817 - val_accuracy: 0.9177\n",
            "Epoch 43/120\n",
            "469/469 [==============================] - 4s 8ms/step - loss: 0.3992 - accuracy: 0.8797 - val_loss: 0.2787 - val_accuracy: 0.9186\n",
            "Epoch 44/120\n",
            "469/469 [==============================] - 4s 8ms/step - loss: 0.3902 - accuracy: 0.8822 - val_loss: 0.2758 - val_accuracy: 0.9197\n",
            "Epoch 45/120\n",
            "469/469 [==============================] - 4s 8ms/step - loss: 0.3884 - accuracy: 0.8828 - val_loss: 0.2728 - val_accuracy: 0.9204\n",
            "Epoch 46/120\n",
            "469/469 [==============================] - 4s 8ms/step - loss: 0.3845 - accuracy: 0.8850 - val_loss: 0.2701 - val_accuracy: 0.9206\n",
            "Epoch 47/120\n",
            "469/469 [==============================] - 4s 8ms/step - loss: 0.3810 - accuracy: 0.8856 - val_loss: 0.2677 - val_accuracy: 0.9218\n",
            "Epoch 48/120\n",
            "469/469 [==============================] - 4s 8ms/step - loss: 0.3797 - accuracy: 0.8873 - val_loss: 0.2650 - val_accuracy: 0.9220\n",
            "Epoch 49/120\n",
            "469/469 [==============================] - 4s 9ms/step - loss: 0.3758 - accuracy: 0.8868 - val_loss: 0.2627 - val_accuracy: 0.9220\n",
            "Epoch 50/120\n",
            "469/469 [==============================] - 4s 8ms/step - loss: 0.3723 - accuracy: 0.8892 - val_loss: 0.2600 - val_accuracy: 0.9232\n",
            "Epoch 51/120\n",
            "469/469 [==============================] - 4s 8ms/step - loss: 0.3675 - accuracy: 0.8886 - val_loss: 0.2576 - val_accuracy: 0.9239\n",
            "Epoch 52/120\n",
            "469/469 [==============================] - 4s 8ms/step - loss: 0.3657 - accuracy: 0.8890 - val_loss: 0.2556 - val_accuracy: 0.9247\n",
            "Epoch 53/120\n",
            "469/469 [==============================] - 4s 8ms/step - loss: 0.3644 - accuracy: 0.8914 - val_loss: 0.2532 - val_accuracy: 0.9246\n",
            "Epoch 54/120\n",
            "469/469 [==============================] - 4s 8ms/step - loss: 0.3596 - accuracy: 0.8915 - val_loss: 0.2510 - val_accuracy: 0.9260\n",
            "Epoch 55/120\n",
            "469/469 [==============================] - 4s 8ms/step - loss: 0.3578 - accuracy: 0.8913 - val_loss: 0.2489 - val_accuracy: 0.9264\n",
            "Epoch 56/120\n",
            "469/469 [==============================] - 4s 8ms/step - loss: 0.3580 - accuracy: 0.8922 - val_loss: 0.2469 - val_accuracy: 0.9272\n",
            "Epoch 57/120\n",
            "469/469 [==============================] - 4s 8ms/step - loss: 0.3510 - accuracy: 0.8941 - val_loss: 0.2447 - val_accuracy: 0.9281\n",
            "Epoch 58/120\n",
            "469/469 [==============================] - 4s 8ms/step - loss: 0.3479 - accuracy: 0.8945 - val_loss: 0.2425 - val_accuracy: 0.9283\n",
            "Epoch 59/120\n",
            "469/469 [==============================] - 4s 8ms/step - loss: 0.3486 - accuracy: 0.8950 - val_loss: 0.2408 - val_accuracy: 0.9292\n",
            "Epoch 60/120\n",
            "469/469 [==============================] - 4s 8ms/step - loss: 0.3470 - accuracy: 0.8954 - val_loss: 0.2388 - val_accuracy: 0.9293\n",
            "Epoch 61/120\n",
            "469/469 [==============================] - 4s 8ms/step - loss: 0.3450 - accuracy: 0.8964 - val_loss: 0.2368 - val_accuracy: 0.9301\n",
            "Epoch 62/120\n",
            "469/469 [==============================] - 4s 8ms/step - loss: 0.3368 - accuracy: 0.8989 - val_loss: 0.2349 - val_accuracy: 0.9307\n",
            "Epoch 63/120\n",
            "469/469 [==============================] - 4s 8ms/step - loss: 0.3356 - accuracy: 0.8988 - val_loss: 0.2329 - val_accuracy: 0.9313\n",
            "Epoch 64/120\n",
            "469/469 [==============================] - 4s 8ms/step - loss: 0.3350 - accuracy: 0.8992 - val_loss: 0.2312 - val_accuracy: 0.9313\n",
            "Epoch 65/120\n",
            "469/469 [==============================] - 4s 8ms/step - loss: 0.3335 - accuracy: 0.8998 - val_loss: 0.2295 - val_accuracy: 0.9321\n",
            "Epoch 66/120\n",
            "469/469 [==============================] - 4s 8ms/step - loss: 0.3292 - accuracy: 0.9006 - val_loss: 0.2277 - val_accuracy: 0.9327\n",
            "Epoch 67/120\n",
            "469/469 [==============================] - 4s 8ms/step - loss: 0.3275 - accuracy: 0.9022 - val_loss: 0.2266 - val_accuracy: 0.9330\n",
            "Epoch 68/120\n",
            "469/469 [==============================] - 4s 8ms/step - loss: 0.3288 - accuracy: 0.9018 - val_loss: 0.2245 - val_accuracy: 0.9336\n",
            "Epoch 69/120\n",
            "469/469 [==============================] - 4s 8ms/step - loss: 0.3222 - accuracy: 0.9030 - val_loss: 0.2228 - val_accuracy: 0.9340\n",
            "Epoch 70/120\n",
            "469/469 [==============================] - 4s 8ms/step - loss: 0.3259 - accuracy: 0.9030 - val_loss: 0.2210 - val_accuracy: 0.9347\n",
            "Epoch 71/120\n",
            "469/469 [==============================] - 4s 8ms/step - loss: 0.3203 - accuracy: 0.9038 - val_loss: 0.2195 - val_accuracy: 0.9349\n",
            "Epoch 72/120\n",
            "469/469 [==============================] - 4s 8ms/step - loss: 0.3211 - accuracy: 0.9042 - val_loss: 0.2183 - val_accuracy: 0.9360\n",
            "Epoch 73/120\n",
            "469/469 [==============================] - 4s 8ms/step - loss: 0.3184 - accuracy: 0.9050 - val_loss: 0.2168 - val_accuracy: 0.9363\n",
            "Epoch 74/120\n",
            "469/469 [==============================] - 4s 8ms/step - loss: 0.3135 - accuracy: 0.9052 - val_loss: 0.2151 - val_accuracy: 0.9367\n",
            "Epoch 75/120\n",
            "469/469 [==============================] - 4s 8ms/step - loss: 0.3138 - accuracy: 0.9056 - val_loss: 0.2136 - val_accuracy: 0.9371\n",
            "Epoch 76/120\n",
            "469/469 [==============================] - 4s 9ms/step - loss: 0.3097 - accuracy: 0.9062 - val_loss: 0.2122 - val_accuracy: 0.9377\n",
            "Epoch 77/120\n",
            "469/469 [==============================] - 4s 8ms/step - loss: 0.3100 - accuracy: 0.9075 - val_loss: 0.2110 - val_accuracy: 0.9379\n",
            "Epoch 78/120\n",
            "469/469 [==============================] - 4s 8ms/step - loss: 0.3091 - accuracy: 0.9074 - val_loss: 0.2093 - val_accuracy: 0.9383\n",
            "Epoch 79/120\n",
            "469/469 [==============================] - 4s 8ms/step - loss: 0.3056 - accuracy: 0.9080 - val_loss: 0.2080 - val_accuracy: 0.9383\n",
            "Epoch 80/120\n",
            "469/469 [==============================] - 4s 8ms/step - loss: 0.3046 - accuracy: 0.9084 - val_loss: 0.2065 - val_accuracy: 0.9388\n",
            "Epoch 81/120\n",
            "469/469 [==============================] - 4s 8ms/step - loss: 0.3032 - accuracy: 0.9088 - val_loss: 0.2054 - val_accuracy: 0.9398\n",
            "Epoch 82/120\n",
            "469/469 [==============================] - 4s 8ms/step - loss: 0.3025 - accuracy: 0.9092 - val_loss: 0.2040 - val_accuracy: 0.9402\n",
            "Epoch 83/120\n",
            "469/469 [==============================] - 4s 8ms/step - loss: 0.2998 - accuracy: 0.9098 - val_loss: 0.2029 - val_accuracy: 0.9397\n",
            "Epoch 84/120\n",
            "469/469 [==============================] - 4s 8ms/step - loss: 0.2984 - accuracy: 0.9112 - val_loss: 0.2017 - val_accuracy: 0.9403\n",
            "Epoch 85/120\n",
            "469/469 [==============================] - 4s 8ms/step - loss: 0.2970 - accuracy: 0.9118 - val_loss: 0.2004 - val_accuracy: 0.9405\n",
            "Epoch 86/120\n",
            "469/469 [==============================] - 4s 8ms/step - loss: 0.2977 - accuracy: 0.9109 - val_loss: 0.1992 - val_accuracy: 0.9412\n",
            "Epoch 87/120\n",
            "469/469 [==============================] - 4s 8ms/step - loss: 0.2919 - accuracy: 0.9127 - val_loss: 0.1981 - val_accuracy: 0.9413\n",
            "Epoch 88/120\n",
            "469/469 [==============================] - 4s 8ms/step - loss: 0.2905 - accuracy: 0.9128 - val_loss: 0.1967 - val_accuracy: 0.9421\n",
            "Epoch 89/120\n",
            "469/469 [==============================] - 4s 8ms/step - loss: 0.2880 - accuracy: 0.9142 - val_loss: 0.1954 - val_accuracy: 0.9429\n",
            "Epoch 90/120\n",
            "469/469 [==============================] - 4s 8ms/step - loss: 0.2910 - accuracy: 0.9130 - val_loss: 0.1943 - val_accuracy: 0.9430\n",
            "Epoch 91/120\n",
            "469/469 [==============================] - 4s 8ms/step - loss: 0.2863 - accuracy: 0.9143 - val_loss: 0.1934 - val_accuracy: 0.9437\n",
            "Epoch 92/120\n",
            "469/469 [==============================] - 4s 8ms/step - loss: 0.2844 - accuracy: 0.9149 - val_loss: 0.1922 - val_accuracy: 0.9438\n",
            "Epoch 93/120\n",
            "469/469 [==============================] - 4s 8ms/step - loss: 0.2849 - accuracy: 0.9144 - val_loss: 0.1911 - val_accuracy: 0.9445\n",
            "Epoch 94/120\n",
            "469/469 [==============================] - 4s 8ms/step - loss: 0.2871 - accuracy: 0.9136 - val_loss: 0.1901 - val_accuracy: 0.9442\n",
            "Epoch 95/120\n",
            "469/469 [==============================] - 4s 8ms/step - loss: 0.2823 - accuracy: 0.9141 - val_loss: 0.1890 - val_accuracy: 0.9451\n",
            "Epoch 96/120\n",
            "469/469 [==============================] - 4s 8ms/step - loss: 0.2823 - accuracy: 0.9146 - val_loss: 0.1882 - val_accuracy: 0.9453\n",
            "Epoch 97/120\n",
            "469/469 [==============================] - 4s 8ms/step - loss: 0.2829 - accuracy: 0.9156 - val_loss: 0.1872 - val_accuracy: 0.9456\n",
            "Epoch 98/120\n",
            "469/469 [==============================] - 4s 8ms/step - loss: 0.2769 - accuracy: 0.9168 - val_loss: 0.1861 - val_accuracy: 0.9462\n",
            "Epoch 99/120\n",
            "469/469 [==============================] - 4s 8ms/step - loss: 0.2792 - accuracy: 0.9167 - val_loss: 0.1850 - val_accuracy: 0.9455\n",
            "Epoch 100/120\n",
            "469/469 [==============================] - 4s 8ms/step - loss: 0.2739 - accuracy: 0.9185 - val_loss: 0.1842 - val_accuracy: 0.9459\n",
            "Epoch 101/120\n",
            "469/469 [==============================] - 4s 8ms/step - loss: 0.2745 - accuracy: 0.9179 - val_loss: 0.1832 - val_accuracy: 0.9472\n",
            "Epoch 102/120\n",
            "469/469 [==============================] - 4s 8ms/step - loss: 0.2734 - accuracy: 0.9164 - val_loss: 0.1822 - val_accuracy: 0.9464\n",
            "Epoch 103/120\n",
            "469/469 [==============================] - 4s 8ms/step - loss: 0.2727 - accuracy: 0.9188 - val_loss: 0.1813 - val_accuracy: 0.9479\n",
            "Epoch 104/120\n",
            "469/469 [==============================] - 4s 8ms/step - loss: 0.2703 - accuracy: 0.9197 - val_loss: 0.1802 - val_accuracy: 0.9474\n",
            "Epoch 105/120\n",
            "469/469 [==============================] - 4s 8ms/step - loss: 0.2698 - accuracy: 0.9188 - val_loss: 0.1793 - val_accuracy: 0.9484\n",
            "Epoch 106/120\n",
            "469/469 [==============================] - 4s 8ms/step - loss: 0.2679 - accuracy: 0.9198 - val_loss: 0.1784 - val_accuracy: 0.9485\n",
            "Epoch 107/120\n",
            "469/469 [==============================] - 4s 8ms/step - loss: 0.2664 - accuracy: 0.9198 - val_loss: 0.1776 - val_accuracy: 0.9486\n",
            "Epoch 108/120\n",
            "469/469 [==============================] - 4s 8ms/step - loss: 0.2657 - accuracy: 0.9201 - val_loss: 0.1767 - val_accuracy: 0.9491\n",
            "Epoch 109/120\n",
            "469/469 [==============================] - 4s 8ms/step - loss: 0.2646 - accuracy: 0.9197 - val_loss: 0.1757 - val_accuracy: 0.9493\n",
            "Epoch 110/120\n",
            "469/469 [==============================] - 4s 8ms/step - loss: 0.2642 - accuracy: 0.9202 - val_loss: 0.1749 - val_accuracy: 0.9497\n",
            "Epoch 111/120\n",
            "469/469 [==============================] - 4s 8ms/step - loss: 0.2639 - accuracy: 0.9219 - val_loss: 0.1741 - val_accuracy: 0.9500\n",
            "Epoch 112/120\n",
            "469/469 [==============================] - 4s 8ms/step - loss: 0.2616 - accuracy: 0.9217 - val_loss: 0.1731 - val_accuracy: 0.9503\n",
            "Epoch 113/120\n",
            "469/469 [==============================] - 4s 8ms/step - loss: 0.2605 - accuracy: 0.9221 - val_loss: 0.1719 - val_accuracy: 0.9508\n",
            "Epoch 114/120\n",
            "469/469 [==============================] - 4s 8ms/step - loss: 0.2584 - accuracy: 0.9240 - val_loss: 0.1712 - val_accuracy: 0.9509\n",
            "Epoch 115/120\n",
            "469/469 [==============================] - 4s 9ms/step - loss: 0.2599 - accuracy: 0.9218 - val_loss: 0.1704 - val_accuracy: 0.9513\n",
            "Epoch 116/120\n",
            "469/469 [==============================] - 4s 9ms/step - loss: 0.2573 - accuracy: 0.9231 - val_loss: 0.1696 - val_accuracy: 0.9515\n",
            "Epoch 117/120\n",
            "469/469 [==============================] - 4s 9ms/step - loss: 0.2553 - accuracy: 0.9236 - val_loss: 0.1691 - val_accuracy: 0.9518\n",
            "Epoch 118/120\n",
            "469/469 [==============================] - 4s 9ms/step - loss: 0.2568 - accuracy: 0.9229 - val_loss: 0.1682 - val_accuracy: 0.9520\n",
            "Epoch 119/120\n",
            "469/469 [==============================] - 4s 8ms/step - loss: 0.2541 - accuracy: 0.9254 - val_loss: 0.1674 - val_accuracy: 0.9521\n",
            "Epoch 120/120\n",
            "469/469 [==============================] - 4s 8ms/step - loss: 0.2528 - accuracy: 0.9246 - val_loss: 0.1667 - val_accuracy: 0.9523\n",
            "The model has successfully trained\n",
            "Saving the model as mnist.h5\n"
          ],
          "name": "stdout"
        }
      ]
    },
    {
      "cell_type": "markdown",
      "metadata": {
        "id": "rBaJ3uDTTYik"
      },
      "source": [
        "Evaluation of the model"
      ]
    },
    {
      "cell_type": "code",
      "metadata": {
        "id": "4bgSTg_GJeeM",
        "colab": {
          "base_uri": "https://localhost:8080/"
        },
        "outputId": "a2b3ccc3-ac64-45b7-f7ea-1410dfd66ee4"
      },
      "source": [
        "score = model.evaluate(x_test, y_test, verbose=0)\n",
        "print('Test loss:', score[0])\n",
        "print('Test accuracy:', score[1])"
      ],
      "execution_count": null,
      "outputs": [
        {
          "output_type": "stream",
          "text": [
            "Test loss: 0.1667051464319229\n",
            "Test accuracy: 0.9523000121116638\n"
          ],
          "name": "stdout"
        }
      ]
    },
    {
      "cell_type": "markdown",
      "metadata": {
        "id": "ZP44MhOKKGoy"
      },
      "source": [
        "Checking the results with user inputs"
      ]
    },
    {
      "cell_type": "code",
      "metadata": {
        "id": "cSuavk8xKDIH",
        "colab": {
          "base_uri": "https://localhost:8080/"
        },
        "outputId": "bed0ad7b-02d8-4d07-ed1f-1aeea6d9d01b"
      },
      "source": [
        " pip install pygame"
      ],
      "execution_count": null,
      "outputs": [
        {
          "output_type": "stream",
          "text": [
            "Collecting pygame\n",
            "\u001b[?25l  Downloading https://files.pythonhosted.org/packages/87/4c/2ebe8ab1a695a446574bc48d96eb3503649893be8c769e7fafd65fd18833/pygame-2.0.0-cp36-cp36m-manylinux1_x86_64.whl (11.5MB)\n",
            "\u001b[K     |████████████████████████████████| 11.5MB 4.5MB/s \n",
            "\u001b[?25hInstalling collected packages: pygame\n",
            "Successfully installed pygame-2.0.0\n"
          ],
          "name": "stdout"
        }
      ]
    },
    {
      "cell_type": "markdown",
      "metadata": {
        "id": "Klfv_-eyKbcU"
      },
      "source": [
        "Mounting drive to take the user inputs"
      ]
    },
    {
      "cell_type": "code",
      "metadata": {
        "id": "2rhEhXwDKkY7",
        "colab": {
          "base_uri": "https://localhost:8080/"
        },
        "outputId": "e5c5d41b-08a1-4e40-a073-90da71818662"
      },
      "source": [
        "from google.colab import drive\n",
        "\n",
        "drive.mount('/content/drive',force_remount=True)"
      ],
      "execution_count": null,
      "outputs": [
        {
          "output_type": "stream",
          "text": [
            "Mounted at /content/drive\n"
          ],
          "name": "stdout"
        }
      ]
    },
    {
      "cell_type": "markdown",
      "metadata": {
        "id": "WGw8Hs6pKuma"
      },
      "source": [
        "Locating the directory containing the user test images"
      ]
    },
    {
      "cell_type": "code",
      "metadata": {
        "id": "XTIMi9jyqUTb"
      },
      "source": [
        ""
      ],
      "execution_count": null,
      "outputs": []
    },
    {
      "cell_type": "code",
      "metadata": {
        "id": "zsw_FUKMas8B",
        "colab": {
          "base_uri": "https://localhost:8080/"
        },
        "outputId": "9f302b2d-2f8d-4dd6-80e8-8dae5c695a6d"
      },
      "source": [
        "import os\n",
        "os.chdir(\"/content/drive/My Drive/Computing copy/images\")\n",
        "! ls"
      ],
      "execution_count": null,
      "outputs": [
        {
          "output_type": "stream",
          "text": [
            "eight1.png  eighttwo.png  format.png  mnist.h5\tone.png    six.png    two.png\n",
            "eight.png   five.png\t  four.png    nine.png\tseven.png  three.png  zero.png\n"
          ],
          "name": "stdout"
        }
      ]
    },
    {
      "cell_type": "markdown",
      "metadata": {
        "id": "iujlNPJnLDmw"
      },
      "source": [
        "Testing the results of user inputs"
      ]
    },
    {
      "cell_type": "code",
      "metadata": {
        "id": "hVB0Lu-ZfSDB",
        "colab": {
          "base_uri": "https://localhost:8080/"
        },
        "outputId": "a071c796-be19-4412-9df7-66baffb597e8"
      },
      "source": [
        "! pip install pillow\n",
        "#for grabbing the image for test"
      ],
      "execution_count": null,
      "outputs": [
        {
          "output_type": "stream",
          "text": [
            "Requirement already satisfied: pillow in /usr/local/lib/python3.6/dist-packages (7.0.0)\n"
          ],
          "name": "stdout"
        }
      ]
    },
    {
      "cell_type": "code",
      "metadata": {
        "id": "LJN23W9rVdlr",
        "colab": {
          "base_uri": "https://localhost:8080/",
          "height": 62
        },
        "outputId": "dfba8905-b0ee-44d3-f41d-3e3e5b7b59de"
      },
      "source": [
        "from keras.models import load_model\n",
        "from tkinter import *\n",
        "import tkinter as tk\n",
        "from PIL import Image\n",
        "import numpy as np\n",
        "import random\n",
        "model = load_model('mnist.h5')\n",
        "\n",
        "def predict_Digit(img):\n",
        "    img = img.resize((28,28))\n",
        "    img = img.convert('L')\n",
        "    img = np.array(img)\n",
        "    img = img.reshape(1,28,28,1)\n",
        "    img = img/255.0\n",
        "    res = model.predict([img])[0]\n",
        "    return np.argmax(res), float(max(res))\n",
        "\n",
        "\n",
        "def classify_handwriting():\n",
        "    img=\"six.png\"\n",
        "    im=Image.open(img)\n",
        "    display(im)\n",
        "    digit, acc = predict_digit(img)\n",
        "    print(\"Digit is: \", digit, \" Accuracy: \",acc,\"%\")\n",
        "\n",
        "classify_handwriting()\n",
        "  "
      ],
      "execution_count": null,
      "outputs": [
        {
          "output_type": "display_data",
          "data": {
            "image/png": "[encoded data removed]",
            "text/plain": [
              "<PIL.PngImagePlugin.PngImageFile image mode=RGB size=28x28 at 0x7FB3FC286198>"
            ]
          },
          "metadata": {
            "tags": []
          }
        },
        {
          "output_type": "stream",
          "text": [
            "Digit is:  6  Accuracy:  99.82886762906674 %\n"
          ],
          "name": "stdout"
        }
      ]
    }
  ]
}